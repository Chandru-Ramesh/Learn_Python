{
  "nbformat": 4,
  "nbformat_minor": 0,
  "metadata": {
    "colab": {
      "name": "xml_json_yaml_csv_netmiko_RESTconf.ipynb",
      "provenance": [],
      "collapsed_sections": []
    },
    "kernelspec": {
      "name": "python3",
      "display_name": "Python 3"
    }
  },
  "cells": [
    {
      "cell_type": "code",
      "metadata": {
        "id": "3xOL3RcZvm9F",
        "colab_type": "code",
        "colab": {}
      },
      "source": [
        "# Step 1\n",
        "# Change apic-em IP to the one you are using\n",
        "# apicem_ip =  \"sandboxapicem.cisco.com\"\n",
        "# apicem_ip is a string\n",
        "APICEM_IP = \"sandboxapicem.cisco.com\"\n",
        "\n",
        "# Step 2\n",
        "# Eneter user name and password to get a service ticket\n",
        "# If you assign username, password and version here you don't need to pass parameter when calling\n",
        "USERNAME = \"devnetuser\"\n",
        "PASSWORD = \"Cisco123!\"\n",
        "VERSION = \"v1\"\n"
      ],
      "execution_count": 0,
      "outputs": []
    },
    {
      "cell_type": "code",
      "metadata": {
        "id": "_sInlUeikCwW",
        "colab_type": "code",
        "outputId": "a0e6e943-efbf-414c-9c53-be0b01e8ca63",
        "colab": {
          "base_uri": "https://localhost:8080/",
          "height": 35
        }
      },
      "source": [
        "\n",
        "\n",
        "import requests   # We use Python external \"requests\" module to do HTTP query\n",
        "import json\n",
        "import sys\n",
        "\n",
        "# All APIC-EM configuration is in apicem_config.py\n",
        "#import apicem_config  # APIC-EM IP is assigned in apicem_config.py\n",
        "from tabulate import tabulate # Pretty-print tabular data in Python\n",
        "\n",
        "\n",
        "requests.packages.urllib3.disable_warnings() # Disable warning message\n",
        "\n",
        "def get_X_auth_token(ip=\"sandboxapicem.cisco.com\",ver=\"v1\",uname=\"devnetuser\",pword=\"Cisco123!\"):\n",
        "    \"\"\"\n",
        "    This function returns a new service ticket.\n",
        "    Passing ip, version,username and password when use as standalone function\n",
        "    to overwrite the configuration above.\n",
        "\n",
        "    Parameters\n",
        "    ----------\n",
        "    ip (str): apic-em routable DNS address or ip\n",
        "    ver (str): apic-em version\n",
        "    uname (str): user name to authenticate with\n",
        "    pword (str): password to authenticate with\n",
        "\n",
        "    Return:\n",
        "    ----------\n",
        "    str: APIC-EM authentication token\n",
        "    \"\"\"\n",
        "\n",
        "    # JSON input for the post ticket API request\n",
        "    r_json = {\n",
        "    \"username\": uname,\n",
        "    \"password\": pword\n",
        "    }\n",
        "    # The url for the post ticket API request\n",
        "    post_url = \"https://\"+ip+\"/api/\"+ver+\"/ticket\"\n",
        "    # All APIC-EM REST API query and response content type is JSON\n",
        "    headers = {'content-type': 'application/json'}\n",
        "    # POST request and response\n",
        "    try:\n",
        "        r = requests.post(post_url, data = json.dumps(r_json), headers=headers,verify=False)\n",
        "        # Remove '#' if need to print out response\n",
        "        # print (r.text)\n",
        "\n",
        "        # return service ticket\n",
        "        return r.json()[\"response\"][\"serviceTicket\"]\n",
        "    except:\n",
        "        # Something wrong, cannot get service ticket\n",
        "        print (\"Status: %s\"%r.status_code)\n",
        "        print (\"Response: %s\"%r.text)\n",
        "        sys.exit ()\n",
        "\n",
        "def get(ip=APICEM_IP,ver=VERSION,uname=USERNAME,pword=PASSWORD,api='',params=''):\n",
        "    \"\"\"\n",
        "    To simplify requests.get with default configuration.Return is the same as requests.get\n",
        "\n",
        "    Parameters\n",
        "    ----------\n",
        "    ip (str): apic-em routable DNS address or ip\n",
        "    ver (str): apic-em version\n",
        "    uname (str): user name to authenticate with\n",
        "    pword (str): password to authenticate with\n",
        "    api (str): apic-em api without prefix\n",
        "    params (str): optional parameter for GET request\n",
        "\n",
        "    Return:\n",
        "    -------\n",
        "    object: an instance of the Response object(of requests module)\n",
        "    \"\"\"\n",
        "    ticket = get_X_auth_token(ip,ver,uname,pword)\n",
        "    headers = {\"X-Auth-Token\": ticket}\n",
        "    url = \"https://\"+ip+\"/api/\"+ver+\"/\"+api\n",
        "    print (\"\\nExecuting GET '%s'\\n\"%url)\n",
        "    try:\n",
        "    # The request and response of \"GET\" request\n",
        "        resp= requests.get(url,headers=headers,params=params,verify = False)\n",
        "        print (\"GET '%s' Status: \"%api,resp.status_code,'\\n') # This is the http request status\n",
        "        return(resp)\n",
        "    except:\n",
        "       print (\"Something wrong with GET /\",api)\n",
        "       sys.exit()\n",
        "\n",
        "def post(ip=APICEM_IP,ver=VERSION,uname=USERNAME,pword=PASSWORD,api='',data=''):\n",
        "    \"\"\"\n",
        "    To simplify requests.post with default configuration. Return is the same as requests.post\n",
        "\n",
        "    Parameters\n",
        "    ----------\n",
        "    ip (str): apic-em routable DNS address or ip\n",
        "    ver (str): apic-em version\n",
        "    uname (str): user name to authenticate with\n",
        "    pword (str): password to authenticate with\n",
        "    api (str): apic-em api without prefix\n",
        "    data (JSON): JSON object\n",
        "\n",
        "    Return:\n",
        "    -------\n",
        "    object: an instance of the Response object(of requests module)\n",
        "    \"\"\"\n",
        "    ticket = get_X_auth_token(ip,ver,uname,pword)\n",
        "    headers = {\"content-type\" : \"application/json\",\"X-Auth-Token\": ticket}\n",
        "    url = \"https://\"+ip+\"/api/\"+ver+\"/\"+api\n",
        "    print (\"\\nExecuting POST '%s'\\n\"%url)\n",
        "    try:\n",
        "    # The request and response of \"POST\" request\n",
        "        resp= requests.post(url,json.dumps(data),headers=headers,verify = False)\n",
        "        print (\"POST '%s' Status: \"%api,resp.status_code,'\\n') # This is the http request status\n",
        "        return(resp)\n",
        "    except:\n",
        "       print (\"Something wrong with POST /\",api)\n",
        "       sys.exit()\n",
        "\n",
        "def put(ip=APICEM_IP,ver=VERSION,uname=USERNAME,pword=PASSWORD,api='',data=''):\n",
        "    \"\"\"\n",
        "    To simplify requests.put with default configuration.Return is the same as requests.put\n",
        "\n",
        "    Parameters\n",
        "    ----------\n",
        "    ip (str): apic-em routable DNS address or ip\n",
        "    version (str): apic-em version\n",
        "    username (str): user name to authenticate with\n",
        "    password (str): password to authenticate with\n",
        "    api (str): apic-em api without prefix\n",
        "    data (JSON): JSON object\n",
        "\n",
        "    Return:\n",
        "    -------\n",
        "    object: an instance of the Response object(of requests module)\n",
        "    \"\"\"\n",
        "    ticket = get_X_auth_token(ip,ver,uname,pword)\n",
        "    headers = {\"content-type\" : \"application/json\",\"X-Auth-Token\": ticket}\n",
        "    url = \"https://\"+ip+\"/api/\"+ver+\"/\"+api\n",
        "    print (\"\\nExecuting PUT '%s'\\n\"%url)\n",
        "    try:\n",
        "    # The request and response of \"PUT\" request\n",
        "        resp= requests.put(url,json.dumps(data),headers=headers,verify = False)\n",
        "        print (\"PUT '%s' Status: \"%api,resp.status_code,'\\n') # This is the http request status\n",
        "        return(resp)\n",
        "    except:\n",
        "       print (\"Something wrong with PUT /\",api)\n",
        "       sys.exit()\n",
        "\n",
        "def delete(ip=APICEM_IP,ver=VERSION,uname=USERNAME,pword=PASSWORD,api='',params=''):\n",
        "    \"\"\"\n",
        "    To simplify requests.delete with default configuration.Return is the same as requests.delete\n",
        "\n",
        "    Parameters\n",
        "    ----------\n",
        "    ip (str): apic-em routable DNS address or ip\n",
        "    ver (str): apic-em version\n",
        "    uname (str): user name to authenticate with\n",
        "    pword (str): password to authenticate with\n",
        "    api (str): apic-em api without prefix\n",
        "    params (str): optional parameter for DELETE request\n",
        "\n",
        "    Return:\n",
        "    -------\n",
        "    object: an instance of the Response object(of requests module)\n",
        "    \"\"\"\n",
        "    ticket = get_X_auth_token(ip,ver,uname,pword)\n",
        "    headers = {\"content-type\" : \"application/json\",\"X-Auth-Token\": ticket}\n",
        "    url = \"https://\"+ip+\"/api/\"+ver+\"/\"+api\n",
        "    print (\"\\nExecuting DELETE '%s'\\n\"%url)\n",
        "    try:\n",
        "    # The request and response of \"DELETE\" request\n",
        "        resp= requests.delete(url,headers=headers,params=params,verify = False)\n",
        "        print (\"DELETE '%s' Status: \"%api,resp.status_code,'\\n') # This is the http request status\n",
        "        return(resp)\n",
        "    except:\n",
        "       print (\"Something wrong with DELETE /\",api)\n",
        "       sys.exit()\n",
        "\n",
        "get_X_auth_token()"
      ],
      "execution_count": 0,
      "outputs": [
        {
          "output_type": "execute_result",
          "data": {
            "text/plain": [
              "'ST-12710-HwiZYbh3fVJRgcT31bDr-cas'"
            ]
          },
          "metadata": {
            "tags": []
          },
          "execution_count": 8
        }
      ]
    },
    {
      "cell_type": "code",
      "metadata": {
        "id": "Yp3OHzpo4eWJ",
        "colab_type": "code",
        "outputId": "014c2c96-5ba6-4874-e843-2cb0c1c7e534",
        "colab": {
          "base_uri": "https://localhost:8080/",
          "height": 92
        }
      },
      "source": [
        "import xmltodict\n",
        "with open(\"xml_example.xml\") as f:\n",
        " xml_example = f.read()\n",
        "print(\"type: \", type(xml_example))\n",
        "print()\n",
        "#print(xml_example)\n",
        "xml_dict=xmltodict.parse(xml_example)\n",
        "#print(xml_dict)\n",
        "xml_dict[\"interface\"][\"ipv4\"][\"address\"][\"ip\"]=\"10.100.8.250\"\n",
        "print(xml_dict)\n"
      ],
      "execution_count": 0,
      "outputs": [
        {
          "output_type": "stream",
          "text": [
            "type:  <class 'str'>\n",
            "\n",
            "OrderedDict([('interface', OrderedDict([('@xmlns', 'ietf-interfaces'), ('name', 'GigabitEthernet2'), ('description', 'Wide Area Network'), ('enabled', 'true'), ('ipv4', OrderedDict([('address', OrderedDict([('ip', '10.100.8.250'), ('netmask', '255.255.255.0')]))]))]))])\n"
          ],
          "name": "stdout"
        }
      ]
    },
    {
      "cell_type": "code",
      "metadata": {
        "id": "gU2qvyPcAWQc",
        "colab_type": "code",
        "outputId": "dbdabe96-48f4-4387-c2e1-8b3ecdb94d4c",
        "colab": {
          "base_uri": "https://localhost:8080/",
          "height": 92
        }
      },
      "source": [
        "with open(\"xml_example.xml\") as f:\n",
        "  xml_example=f.read()\n",
        "\n",
        "xml_dict=xmltodict.parse(xml_example)\n",
        "print(xml_dict)\n",
        "new_xml=xmltodict.unparse(xml_dict)\n",
        "print(new_xml)"
      ],
      "execution_count": 0,
      "outputs": [
        {
          "output_type": "stream",
          "text": [
            "OrderedDict([('interface', OrderedDict([('@xmlns', 'ietf-interfaces'), ('name', 'GigabitEthernet2'), ('description', 'Wide Area Network'), ('enabled', 'true'), ('ipv4', OrderedDict([('address', OrderedDict([('ip', '172.16.0.2'), ('netmask', '255.255.255.0')]))]))]))])\n",
            "<?xml version=\"1.0\" encoding=\"utf-8\"?>\n",
            "<interface xmlns=\"ietf-interfaces\"><name>GigabitEthernet2</name><description>Wide Area Network</description><enabled>true</enabled><ipv4><address><ip>172.16.0.2</ip><netmask>255.255.255.0</netmask></address></ipv4></interface>\n"
          ],
          "name": "stdout"
        }
      ]
    },
    {
      "cell_type": "code",
      "metadata": {
        "id": "jU8LSXk_aB6o",
        "colab_type": "code",
        "outputId": "472bcdb6-b3b8-4533-ba16-921694ba8b49",
        "colab": {
          "base_uri": "https://localhost:8080/",
          "height": 35
        }
      },
      "source": [
        "import json\n",
        "with open(\"json_example.json\") as f:\n",
        "  json_example=f.read()\n",
        "\n",
        "# print(json_example)\n",
        "json_dict=json.loads(json_example)\n",
        "json_dict[\"interface\"][\"ipv4\"][\"address\"][0][\"ip\"]\n",
        "new_json=json.dumps(json_dict)\n",
        "type(new_json)"
      ],
      "execution_count": 0,
      "outputs": [
        {
          "output_type": "execute_result",
          "data": {
            "text/plain": [
              "str"
            ]
          },
          "metadata": {
            "tags": []
          },
          "execution_count": 61
        }
      ]
    },
    {
      "cell_type": "code",
      "metadata": {
        "id": "RwAoTFz0f4Wy",
        "colab_type": "code",
        "outputId": "9a94a66c-8e32-46ff-da30-9de957f01006",
        "colab": {
          "base_uri": "https://localhost:8080/",
          "height": 35
        }
      },
      "source": [
        "pip install pyyaml"
      ],
      "execution_count": 0,
      "outputs": [
        {
          "output_type": "stream",
          "text": [
            "Requirement already satisfied: pyyaml in /usr/local/lib/python3.6/dist-packages (3.13)\n"
          ],
          "name": "stdout"
        }
      ]
    },
    {
      "cell_type": "code",
      "metadata": {
        "id": "5MgOjkUfdV5d",
        "colab_type": "code",
        "outputId": "645693ac-accb-4e4b-e440-b56e2e7ed659",
        "colab": {
          "base_uri": "https://localhost:8080/",
          "height": 181
        }
      },
      "source": [
        "from yaml import *\n",
        "with open(\"yaml_example.yaml\") as f:\n",
        "  yaml_example=f.read()\n",
        "#print(yaml_example)\n",
        "yaml_dict=yaml.load(yaml_example)\n",
        "yaml_dict[\"interface\"][\"ipv4\"][\"address\"][0][\"ip\"]=\"10.100.8.250\"\n",
        "print(yaml_dict[\"interface\"][\"ipv4\"][\"address\"][0][\"ip\"])\n",
        "\n",
        "new_yaml=yaml.dump(yaml_dict)\n",
        "print(new_yaml)"
      ],
      "execution_count": 0,
      "outputs": [
        {
          "output_type": "stream",
          "text": [
            "10.100.8.250\n",
            "interface:\n",
            "  description: Wide Area Network\n",
            "  enabled: true\n",
            "  ipv4:\n",
            "    address:\n",
            "    - {ip: 10.100.8.250, netmask: 255.255.255.0}\n",
            "  name: GigabitEthernet2\n",
            "\n"
          ],
          "name": "stdout"
        }
      ]
    },
    {
      "cell_type": "code",
      "metadata": {
        "id": "bodIYMRSdJgv",
        "colab_type": "code",
        "outputId": "7f126958-4d33-4f63-b650-96ae4f37d66d",
        "colab": {
          "base_uri": "https://localhost:8080/",
          "height": 381
        }
      },
      "source": [
        "import csv\n",
        "\n",
        "# for row in csv_obj:\n",
        "   #print(\"{} with ip {} is in {}\".format(row[0],row[1],row[2]))\n",
        "device=[\"router4\",\"10.4.0.1\",\"Halifax\"]\n",
        "with open(\"csv_example.csv\",\"a\") as f:\n",
        "  csv_writer_obj=csv.writer(f)\n",
        "  csv_writer_obj.writerow(device)\n",
        "with open(\"csv_example.csv\") as f:\n",
        "  print(f.read())"
      ],
      "execution_count": 0,
      "outputs": [
        {
          "output_type": "stream",
          "text": [
            "\"router1\",\"10.1.0.1\",\"New York\"\n",
            "\"router2\",\"10.2.0.1\",\"Denver\"\n",
            "\"router3\",\"10.3.0.1\",\"Austin\" \n",
            "router4,10.4.0.1,Halifax\n",
            "router4,10.4.0.1,Halifax\n",
            "router4,10.4.0.1,Halifax\n",
            "router4,10.4.0.1,Halifax\n",
            "router4,10.4.0.1,Halifax\n",
            "router4,10.4.0.1,Halifax\n",
            "router4,10.4.0.1,Halifax\n",
            "router4,10.4.0.1,Halifax\n",
            "router4,10.4.0.1,Halifax\n",
            "router4,10.4.0.1,Halifax\n",
            "router4,10.4.0.1,Halifax\n",
            "router4,10.4.0.1,Halifax\n",
            "router4,10.4.0.1,Halifax\n",
            "router4,10.4.0.1,Halifax\n",
            "router4,10.4.0.1,Halifax\n",
            "router4,10.4.0.1,Halifax\n",
            "\n"
          ],
          "name": "stdout"
        }
      ]
    },
    {
      "cell_type": "code",
      "metadata": {
        "id": "4HGGBCy3xyjf",
        "colab_type": "code",
        "outputId": "585474b4-f076-43cd-d887-29c13e11e89c",
        "colab": {
          "base_uri": "https://localhost:8080/",
          "height": 345
        }
      },
      "source": [
        "device = {\n",
        "\"address\": \"ios-xe-mgmt.cisco.com\",\n",
        "\"netconf_port\": 10000,\n",
        "\"restconf_port\": 9443,\n",
        "\"ssh_port\": 8181,\n",
        "\"username\": \"root\",\n",
        "\"password\": \"D_Vay!_10&\"\n",
        "}\n",
        "import requests, urllib3\n",
        "import sys\n",
        "# Disable Self-Signed Cert warning for demo\n",
        "urllib3.disable_warnings(urllib3.exceptions.InsecureRequestWarning)\n",
        "restconf_headers = {\"Accept\": \"application/yang-data+json\"}\n",
        "restconf_base = \"https://{ip}:{port}/restconf/data\"\n",
        "interface_url = restconf_base + \"/ietf-interfaces:interfaces,interface={int_name}\"\n",
        "# Create URL and send RESTCONF request to core1 for GigE1 Config\n",
        "url = interface_url.format(ip = device[\"address\"],port = device[\"restconf_port\"],int_name = \"GigabitEthernet1\")\n",
        "print(\"URL: {}\\n\".format(url))\n",
        "\n",
        "r = requests.get(url,headers = restconf_headers,auth=(device[\"username\"], device[\"password\"]),verify=False)\n",
        "# Print returned data (Even if an error is generated you will still get some→data)\n",
        "print(\"GET DATA:\")\n",
        "print(type(r.text))\n",
        "print()\n",
        "print(r.text)\n",
        "json_dic=r.json()\n",
        "print(json_dic[\"errors\"][\"error\"])\n",
        "# if r.status_code == 200:\n",
        "# # Process JSON data into Python Dictionary and use\n",
        "#  interface = r.json()[\"ietf-interfaces:interface\"]\n",
        "#  print(\"The interface {name} has ip address {ip}/{mask}\".format(\n",
        "#  name = interface[\"name\"],\n",
        "#  ip = interface[\"ietf-ip:ipv4\"][\"address\"][0][\"ip\"],\n",
        "#  mask = interface[\"ietf-ip:ipv4\"][\"address\"][0][\"netmask\"],))\n",
        "# else:\n",
        "#  print(\"No interface {} found.\".format(\"GigabitEthernet1\"))"
      ],
      "execution_count": 0,
      "outputs": [
        {
          "output_type": "stream",
          "text": [
            "URL: https://ios-xe-mgmt.cisco.com:9443/restconf/data/ietf-interfaces:interfaces,interface=GigabitEthernet1\n",
            "\n",
            "GET DATA:\n",
            "<class 'str'>\n",
            "\n",
            "{\n",
            "  \"errors\": {\n",
            "    \"error\": [\n",
            "      {\n",
            "        \"error-message\": \"uri keypath not found\",\n",
            "        \"error-tag\": \"invalid-value\",\n",
            "        \"error-type\": \"application\"\n",
            "      }\n",
            "    ]\n",
            "  }\n",
            "}\n",
            "\n",
            "[{'error-message': 'uri keypath not found', 'error-tag': 'invalid-value', 'error-type': 'application'}]\n"
          ],
          "name": "stdout"
        }
      ]
    },
    {
      "cell_type": "code",
      "metadata": {
        "id": "6ZBko4K0x8So",
        "colab_type": "code",
        "colab": {}
      },
      "source": [
        ""
      ],
      "execution_count": 0,
      "outputs": []
    }
  ]
}