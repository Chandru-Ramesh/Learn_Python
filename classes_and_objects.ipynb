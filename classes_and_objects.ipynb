{
  "nbformat": 4,
  "nbformat_minor": 0,
  "metadata": {
    "colab": {
      "name": "classes and objects.ipynb",
      "provenance": [],
      "collapsed_sections": []
    },
    "kernelspec": {
      "name": "python3",
      "display_name": "Python 3"
    }
  },
  "cells": [
    {
      "cell_type": "code",
      "metadata": {
        "id": "BkbBDBnhLP2l",
        "colab_type": "code",
        "outputId": "6ca72bf2-4ff7-4b5e-a996-adca72041722",
        "colab": {
          "base_uri": "https://localhost:8080/",
          "height": 35
        }
      },
      "source": [
        "#LAB5-Task 1\n",
        "from math import sqrt\n",
        "class point:\n",
        "  \"\"\"created a class named point\"\"\"\n",
        "\n",
        "a=point()\n",
        "b=point()\n",
        "a.x1=10\n",
        "a.y1=20\n",
        "\n",
        "b.x2=5\n",
        "b.y2=6\n",
        "\n",
        "def distance_between_points(a,b):\n",
        "  return sqrt(((b.x2-a.x1)**2)+((b.y2-a.y1)**2))\n",
        "\n",
        "distance_between_points(a,b)\n"
      ],
      "execution_count": 0,
      "outputs": [
        {
          "output_type": "execute_result",
          "data": {
            "text/plain": [
              "14.866068747318506"
            ]
          },
          "metadata": {
            "tags": []
          },
          "execution_count": 33
        }
      ]
    },
    {
      "cell_type": "code",
      "metadata": {
        "id": "UyN_tD4_XuOL",
        "colab_type": "code",
        "outputId": "3e0c2248-c277-4eab-f1d4-b36bbece1f15",
        "colab": {
          "base_uri": "https://localhost:8080/",
          "height": 54
        }
      },
      "source": [
        "#Task 2\n",
        "class rectangle:\n",
        "  \"\"\"created class named rectangle\"\"\"\n",
        "obj1=rectangle()\n",
        "obj1.width=100.0\n",
        "obj1.height=200.0\n",
        "obj1.corner=point()\n",
        "obj1.corner.x=0\n",
        "obj1.corner.y=0\n",
        "\n",
        "def find_center(rect):\n",
        " p = point()\n",
        " p.x = rect.corner.x + rect.width/2\n",
        " p.y = rect.corner.y + rect.height/2\n",
        " print(\"center value is x:{} y:{}\".format(p.x,p.y))\n",
        "\n",
        "def move_rectangle(rect,dx,dy):\n",
        " p = point()\n",
        " p.x = (rect.corner.x+dx) + rect.width/2\n",
        " p.y = (rect.corner.y+dy) + rect.height/2\n",
        " print(\"Moved rectangle value is ({},{})\".format(p.x,p.y))\n",
        "\n",
        "find_center(obj1)\n",
        "move_rectangle(obj1,10,20)"
      ],
      "execution_count": 0,
      "outputs": [
        {
          "output_type": "stream",
          "text": [
            "center value is x:50.0 y:100.0\n",
            "Moved rectangle value is (60.0,120.0)\n"
          ],
          "name": "stdout"
        }
      ]
    },
    {
      "cell_type": "code",
      "metadata": {
        "id": "p1NoDcKOLxT6",
        "colab_type": "code",
        "outputId": "6fd45539-af29-4742-8bd7-e6b0d9b9528f",
        "colab": {
          "base_uri": "https://localhost:8080/",
          "height": 108
        }
      },
      "source": [
        "import copy\n",
        "obj2=copy.deepcopy(obj1)\n",
        "print(obj1)\n",
        "print(obj2)\n",
        "print(obj1.__dict__)\n",
        "print(obj2.__dict__)\n",
        "obj1.corner is obj2.corner\n"
      ],
      "execution_count": 0,
      "outputs": [
        {
          "output_type": "stream",
          "text": [
            "<__main__.rectangle object at 0x7f22d3c57390>\n",
            "<__main__.rectangle object at 0x7f22d3c57f98>\n",
            "{'width': 100.0, 'height': 200.0, 'corner': <__main__.point object at 0x7f22d3c57e10>}\n",
            "{'width': 100.0, 'height': 200.0, 'corner': <__main__.point object at 0x7f22d3c573c8>}\n"
          ],
          "name": "stdout"
        },
        {
          "output_type": "execute_result",
          "data": {
            "text/plain": [
              "False"
            ]
          },
          "metadata": {
            "tags": []
          },
          "execution_count": 66
        }
      ]
    },
    {
      "cell_type": "code",
      "metadata": {
        "id": "jiOKheaKBM9r",
        "colab_type": "code",
        "outputId": "d13a148d-fc24-426b-c6ab-5c8dfe557519",
        "colab": {
          "base_uri": "https://localhost:8080/",
          "height": 108
        }
      },
      "source": [
        "import copy\n",
        "obj3=copy.copy(obj1)\n",
        "print(obj1)\n",
        "print(obj3)\n",
        "print(obj1.__dict__)\n",
        "print(obj3.__dict__)\n",
        "obj1.corner is obj3.corner"
      ],
      "execution_count": 0,
      "outputs": [
        {
          "output_type": "stream",
          "text": [
            "<__main__.rectangle object at 0x7f22d3c57390>\n",
            "<__main__.rectangle object at 0x7f22d3c57d68>\n",
            "{'width': 100.0, 'height': 200.0, 'corner': <__main__.point object at 0x7f22d3c57e10>}\n",
            "{'width': 100.0, 'height': 200.0, 'corner': <__main__.point object at 0x7f22d3c57e10>}\n"
          ],
          "name": "stdout"
        },
        {
          "output_type": "execute_result",
          "data": {
            "text/plain": [
              "True"
            ]
          },
          "metadata": {
            "tags": []
          },
          "execution_count": 65
        }
      ]
    },
    {
      "cell_type": "code",
      "metadata": {
        "id": "VX0x-WzYBy7g",
        "colab_type": "code",
        "outputId": "738f805f-5f79-4ae5-b24a-bb0bce243149",
        "colab": {
          "base_uri": "https://localhost:8080/",
          "height": 90
        }
      },
      "source": [
        "import copy\n",
        "class rectangle:\n",
        "  \"\"\"created class named rectangle\"\"\"\n",
        "obj1=rectangle()\n",
        "obj1.width=100.0\n",
        "obj1.height=200.0\n",
        "obj1.corner=point()\n",
        "obj1.corner.x=0\n",
        "obj1.corner.y=0\n",
        "p=point()\n",
        "p1=point()\n",
        "def find_center(rect): \n",
        " p.x = rect.corner.x + rect.width/2\n",
        " p.y = rect.corner.y + rect.height/2\n",
        " print(\"center value is x:{} y:{}\".format(p.x,p.y))\n",
        " print(p.__dict__)\n",
        "def move_rectangle(rect,dx,dy):\n",
        " p1=copy.deepcopy(p)\n",
        " p1.x = (rect.corner.x+dx) + (rect.width+dx)/2\n",
        " p1.y = (rect.corner.y+dy) + rect.height/2\n",
        " print(\"Moved rectangle value is ({},{})\".format(p1.x,p1.y))\n",
        " print(p1.__dict__)\n",
        "\n",
        "find_center(obj1)\n",
        "move_rectangle(obj1,10,20)"
      ],
      "execution_count": 0,
      "outputs": [
        {
          "output_type": "stream",
          "text": [
            "center value is x:50.0 y:100.0\n",
            "{'x': 50.0, 'y': 100.0}\n",
            "Moved rectangle value is (65.0,120.0)\n",
            "{'x': 65.0, 'y': 120.0}\n"
          ],
          "name": "stdout"
        }
      ]
    },
    {
      "cell_type": "code",
      "metadata": {
        "id": "R62dmOhUMi49",
        "colab_type": "code",
        "outputId": "02c67475-5bbc-4e34-a3a1-4f9a154ae470",
        "colab": {
          "base_uri": "https://localhost:8080/",
          "height": 35
        }
      },
      "source": [
        "chandru=9\n",
        "\"%.2d\" %chandru"
      ],
      "execution_count": 0,
      "outputs": [
        {
          "output_type": "execute_result",
          "data": {
            "text/plain": [
              "'09'"
            ]
          },
          "metadata": {
            "tags": []
          },
          "execution_count": 8
        }
      ]
    },
    {
      "cell_type": "code",
      "metadata": {
        "id": "lqB0MQJgZh-t",
        "colab_type": "code",
        "outputId": "151081b5-979e-46e8-94c9-aa388e8d5561",
        "colab": {
          "base_uri": "https://localhost:8080/",
          "height": 54
        }
      },
      "source": [
        "#Task 4B\n",
        "class Time:\n",
        "  \"\"\"class named time is created\"\"\"\n",
        "\n",
        "time1=Time()\n",
        "time1.hour=7\n",
        "time1.minute=59\n",
        "time1.sec=40\n",
        "time2=Time()\n",
        "time2.hour=6\n",
        "time2.minute=59\n",
        "time2.sec=50\n",
        "\n",
        "def is_after(t1,t2):\n",
        "#\"\"\" if t1.hour>t2.hour:\n",
        "#  return True\n",
        "# elif t1.hour==t2.hour and t1.minute>t2.minute:\n",
        "#  return True\n",
        "# elif t1.hour==t2.hour and t1.minute==t2.minute and t1.sec>t2.sec:\n",
        "#  return True\n",
        "# else:\n",
        "#  return False\"\"\"\n",
        "  print(t1.__dict__)\n",
        "  while  ((t1.hour>t2.hour) or (t1.hour==t2.hour and t1.minute>t2.minute) or (t1.hour==t2.hour and t1.minute==t2.minute and t1.sec>t2.sec)):\n",
        "   return True\n",
        "  return False\n",
        "  \n",
        "is_after(time1,time2)\n",
        "\n",
        "\n"
      ],
      "execution_count": 0,
      "outputs": [
        {
          "output_type": "stream",
          "text": [
            "{'hour': 7, 'minute': 59, 'sec': 40}\n"
          ],
          "name": "stdout"
        },
        {
          "output_type": "execute_result",
          "data": {
            "text/plain": [
              "True"
            ]
          },
          "metadata": {
            "tags": []
          },
          "execution_count": 64
        }
      ]
    },
    {
      "cell_type": "code",
      "metadata": {
        "id": "PnThADjAmzlq",
        "colab_type": "code",
        "outputId": "df1763cc-8e16-435d-8ab0-a67addbdf165",
        "colab": {
          "base_uri": "https://localhost:8080/",
          "height": 35
        }
      },
      "source": [
        "#Task 4A\n",
        "class Time:\n",
        "  \"\"\"class named time is created\"\"\"\n",
        "  def __str__(self):\n",
        "    #print(x)\n",
        "    return \"%.2d:%.2d:%.2d\" % (self.hour,self.minute,self.sec)\n",
        "time1=Time()\n",
        "time1.hour=7\n",
        "time1.minute=59\n",
        "time1.sec=40\n",
        "print(time1)"
      ],
      "execution_count": 0,
      "outputs": [
        {
          "output_type": "stream",
          "text": [
            "07:59:40\n"
          ],
          "name": "stdout"
        }
      ]
    },
    {
      "cell_type": "code",
      "metadata": {
        "id": "cANtSsiQEheM",
        "colab_type": "code",
        "outputId": "0a056ed1-8d8b-481b-87f3-e96ff19c147d",
        "colab": {
          "base_uri": "https://localhost:8080/",
          "height": 335
        }
      },
      "source": [
        "#Task 5\n",
        "class Kangaroo:\n",
        "  \"\"\"class named kangaroo is created\"\"\"\n",
        "  def __init__(self):\n",
        "    self.pouch_contents=[]\n",
        "  def put_in_pouch(args):\n",
        "    self.pouch_contents.append()  \n",
        "  def __str__(self):\n",
        "    return \n",
        "\n",
        "kang=Kangaroo()\n",
        "kang.kanga=10\n",
        "kang.roo=20\n",
        "kang.put_in_pouch()"
      ],
      "execution_count": 0,
      "outputs": [
        {
          "output_type": "error",
          "ename": "NameError",
          "evalue": "ignored",
          "traceback": [
            "\u001b[0;31m---------------------------------------------------------------------------\u001b[0m",
            "\u001b[0;31mNameError\u001b[0m                                 Traceback (most recent call last)",
            "\u001b[0;32m<ipython-input-71-4f508b07cb85>\u001b[0m in \u001b[0;36m<module>\u001b[0;34m()\u001b[0m\n\u001b[1;32m     11\u001b[0m \u001b[0mkang\u001b[0m\u001b[0;34m.\u001b[0m\u001b[0mkanga\u001b[0m\u001b[0;34m=\u001b[0m\u001b[0;36m10\u001b[0m\u001b[0;34m\u001b[0m\u001b[0;34m\u001b[0m\u001b[0m\n\u001b[1;32m     12\u001b[0m \u001b[0mkang\u001b[0m\u001b[0;34m.\u001b[0m\u001b[0mroo\u001b[0m\u001b[0;34m=\u001b[0m\u001b[0;36m20\u001b[0m\u001b[0;34m\u001b[0m\u001b[0;34m\u001b[0m\u001b[0m\n\u001b[0;32m---> 13\u001b[0;31m \u001b[0mkang\u001b[0m\u001b[0;34m.\u001b[0m\u001b[0mput_in_pouch\u001b[0m\u001b[0;34m(\u001b[0m\u001b[0;34m)\u001b[0m\u001b[0;34m\u001b[0m\u001b[0;34m\u001b[0m\u001b[0m\n\u001b[0m",
            "\u001b[0;32m<ipython-input-71-4f508b07cb85>\u001b[0m in \u001b[0;36mput_in_pouch\u001b[0;34m(args)\u001b[0m\n\u001b[1;32m      4\u001b[0m     \u001b[0mself\u001b[0m\u001b[0;34m.\u001b[0m\u001b[0mpouch_contents\u001b[0m\u001b[0;34m=\u001b[0m\u001b[0;34m[\u001b[0m\u001b[0;34m]\u001b[0m\u001b[0;34m\u001b[0m\u001b[0;34m\u001b[0m\u001b[0m\n\u001b[1;32m      5\u001b[0m   \u001b[0;32mdef\u001b[0m \u001b[0mput_in_pouch\u001b[0m\u001b[0;34m(\u001b[0m\u001b[0margs\u001b[0m\u001b[0;34m)\u001b[0m\u001b[0;34m:\u001b[0m\u001b[0;34m\u001b[0m\u001b[0;34m\u001b[0m\u001b[0m\n\u001b[0;32m----> 6\u001b[0;31m     \u001b[0mself\u001b[0m\u001b[0;34m.\u001b[0m\u001b[0mpouch_contents\u001b[0m\u001b[0;34m.\u001b[0m\u001b[0mappend\u001b[0m\u001b[0;34m(\u001b[0m\u001b[0;34m)\u001b[0m\u001b[0;34m\u001b[0m\u001b[0;34m\u001b[0m\u001b[0m\n\u001b[0m\u001b[1;32m      7\u001b[0m   \u001b[0;32mdef\u001b[0m \u001b[0m__str__\u001b[0m\u001b[0;34m(\u001b[0m\u001b[0mself\u001b[0m\u001b[0;34m)\u001b[0m\u001b[0;34m:\u001b[0m\u001b[0;34m\u001b[0m\u001b[0;34m\u001b[0m\u001b[0m\n\u001b[1;32m      8\u001b[0m     \u001b[0;32mreturn\u001b[0m\u001b[0;34m\u001b[0m\u001b[0;34m\u001b[0m\u001b[0m\n",
            "\u001b[0;31mNameError\u001b[0m: name 'self' is not defined"
          ]
        }
      ]
    },
    {
      "cell_type": "code",
      "metadata": {
        "id": "sRbEGkbYFnIC",
        "colab_type": "code",
        "outputId": "48238468-9c49-444a-abd8-86579e91cd6a",
        "colab": {
          "base_uri": "https://localhost:8080/",
          "height": 35
        }
      },
      "source": [
        "#homework1\n",
        "class point():\n",
        "\n",
        " def __init__(self,x,y):\n",
        "  self.x=x\n",
        "  self.y=y\n",
        " def __str__(self):\n",
        "  return f\"{self.x}  {self.y}\"\n",
        "\n",
        " def __add__(self,other):\n",
        "  \n",
        "   x=self.x+other.x\n",
        "   y=self.y+other.y\n",
        "   return point(x,y)\n",
        "\n",
        " def __repr__(self):\n",
        "   return self.__str__()\n",
        "p1=point(5,6)\n",
        "p2=point(6,6)\n",
        "p3=point(7,7)\n",
        "type(p1 + p2 + p3)"
      ],
      "execution_count": 0,
      "outputs": [
        {
          "output_type": "execute_result",
          "data": {
            "text/plain": [
              "__main__.point"
            ]
          },
          "metadata": {
            "tags": []
          },
          "execution_count": 39
        }
      ]
    },
    {
      "cell_type": "code",
      "metadata": {
        "id": "MKOcv6bseMAc",
        "colab_type": "code",
        "outputId": "37ace215-b036-4d67-f789-9e0333d6193e",
        "colab": {
          "base_uri": "https://localhost:8080/",
          "height": 35
        }
      },
      "source": [
        "#homework 1\n",
        "class point():\n",
        "\n",
        " def __init__(self,x,y):\n",
        "  self.x=x\n",
        "  self.y=y\n",
        " def __str__(self):\n",
        "  return f\"{self.x}  {self.y}\"\n",
        "\n",
        " def __add__(self,other):\n",
        "  \n",
        "   x=self.x+other[0]\n",
        "   y=self.y+other[1]\n",
        "   return point(x,y)\n",
        "\n",
        " def __repr__(self):\n",
        "   return self.__str__()\n",
        "p1=point(5,6)\n",
        "p2=tuple((6,6))\n",
        "p1+p2"
      ],
      "execution_count": 0,
      "outputs": [
        {
          "output_type": "execute_result",
          "data": {
            "text/plain": [
              "11  12"
            ]
          },
          "metadata": {
            "tags": []
          },
          "execution_count": 47
        }
      ]
    },
    {
      "cell_type": "code",
      "metadata": {
        "id": "FjMwaNCkfGb0",
        "colab_type": "code",
        "outputId": "5fb10069-0037-48c4-ca23-f8c42bb7bab3",
        "colab": {
          "base_uri": "https://localhost:8080/",
          "height": 54
        }
      },
      "source": [
        "#Program to find subnet mask and network ID for the given IP address\n",
        "import math\n",
        "from ipaddress import *\n",
        "class ipv4address:\n",
        "  def __init__(self,addr,mask):\n",
        "   self.addr=addr\n",
        "   self.mask=mask\n",
        "  def __str__(self):\n",
        "    return f\"{self.addr}\" \n",
        "  def getNetwork(self):    \n",
        "      network=[]      \n",
        "      for i in range(len(self.addr)):\n",
        "       network.append(self.addr[i]& mask[i])\n",
        "      return network         \n",
        "  \n",
        "  def getMask(self):\n",
        "    octet=8\n",
        "    network_bits=self.mask\n",
        "    mask=[]\n",
        "    quot,remainder=divmod(network_bits,8) \n",
        "    for i in range(quot):\n",
        "      res=0  \n",
        "      for i in range (octet):\n",
        "         res=res+(2**i)\n",
        "         if res==255:\n",
        "          mask.append(res)\n",
        "    if remainder!=0:\n",
        "      res=0\n",
        "      for j in range (remainder):\n",
        "         res=res+pow(2,7-j)\n",
        "      mask.append(res)\n",
        "         \n",
        "    if len(mask)==1:\n",
        "      for j in range(1,4):\n",
        "        mask.append(0)\n",
        "    elif len(mask)==2:\n",
        "      for j in range(2,4):\n",
        "        mask.append(0)\n",
        "    elif len(mask)==3:\n",
        "      for j in range(3,4):\n",
        "        mask.append(0)           \n",
        "    \n",
        "    return mask\n",
        "\n",
        "ipv4 = ipv4address([192,168,100,5], 26)\n",
        "\n",
        "mask=ipv4.getMask()\n",
        "net = ipv4.getNetwork()\n",
        "print(\"Network ID is :\", net)\n",
        "print(\"Subnet Mask is :\",mask)\n",
        "\n",
        "\n"
      ],
      "execution_count": 0,
      "outputs": [
        {
          "output_type": "stream",
          "text": [
            "Network ID is : [192, 168, 100, 0]\n",
            "Subnet Mask is : [255, 255, 255, 192]\n"
          ],
          "name": "stdout"
        }
      ]
    }
  ]
}