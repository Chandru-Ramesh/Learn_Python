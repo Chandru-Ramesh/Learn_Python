{
  "nbformat": 4,
  "nbformat_minor": 0,
  "metadata": {
    "colab": {
      "name": "Mapquest.ipynb",
      "provenance": [],
      "collapsed_sections": []
    },
    "kernelspec": {
      "name": "python3",
      "display_name": "Python 3"
    }
  },
  "cells": [
    {
      "cell_type": "code",
      "metadata": {
        "id": "9pnf8PR0I0eG",
        "colab_type": "code",
        "outputId": "d0cb8585-fe29-4ca0-dc5c-55cd257a3b35",
        "colab": {
          "base_uri": "https://localhost:8080/",
          "height": 35
        }
      },
      "source": [
        "pip install key"
      ],
      "execution_count": 0,
      "outputs": [
        {
          "output_type": "stream",
          "text": [
            "Requirement already satisfied: key in /usr/local/lib/python3.6/dist-packages (0.4)\n"
          ],
          "name": "stdout"
        }
      ]
    },
    {
      "cell_type": "code",
      "metadata": {
        "id": "kp44C0zxIaQW",
        "colab_type": "code",
        "outputId": "74296be0-d196-4b0d-85e2-82be880bafcf",
        "colab": {
          "base_uri": "https://localhost:8080/",
          "height": 350
        }
      },
      "source": [
        "import urllib.parse\n",
        "import requests\n",
        "import json\n",
        "import matplotlib.pyplot as pp\n",
        "\n",
        "list1=[]\n",
        "list2=[]\n",
        "main_api = \"https://www.mapquestapi.com/directions/v2/route?\"\n",
        "orig = \"Washington\"\n",
        "dest = \"Baltimaore\"\n",
        "key =\"Ef2N5p2EvKuUQnCOaAhSXgsATW7Z1ro3\"\n",
        "url = main_api + urllib.parse.urlencode({\"key\": key, \"from\":orig, \"to\":dest})\n",
        "print(url)\n",
        "json_data = requests.get(url).json()\n",
        "print(json_data[\"route\"][\"boundingBox\"])\n",
        "# for key,val in json_data[\"route\"][\"boundingBox\"].items():\n",
        "#   for key1 in val.keys():\n",
        "#     if key1==\"lng\":\n",
        "#      list1.append(val[key1])\n",
        "#     if key1==\"lat\":\n",
        "#      list2.append(val[key1]) \n",
        "print(list1,list2)\n",
        "# print(pp.scatter(list1,list2))\n",
        "for i in range(7):\n",
        " for key,val in json_data[\"route\"][\"legs\"][0][\"maneuvers\"][i][\"startPoint\"].items():\n",
        "   if key==\"lng\":\n",
        "     list1.append(val)\n",
        "   if key==\"lat\":\n",
        "     list2.append(val)\n",
        "print(list1,list2)  \n",
        "print(pp.scatter(list1,list2))\n",
        "# val=json.dumps(json_data)\n",
        "# Fuel=json_data[\"route\"][\"fuelUsed\"]\n",
        "# distance=json_data[\"route\"][\"distance\"]\n",
        "# print(\"Distance between the given location is {} and the fuel used is {}\".format(distance,Fuel*5))"
      ],
      "execution_count": 0,
      "outputs": [
        {
          "output_type": "stream",
          "text": [
            "https://www.mapquestapi.com/directions/v2/route?key=Ef2N5p2EvKuUQnCOaAhSXgsATW7Z1ro3&from=Washington&to=Baltimaore\n",
            "{'lr': {'lng': -76.612137, 'lat': 38.892063}, 'ul': {'lng': -77.019913, 'lat': 39.290443}}\n",
            "[] []\n",
            "[-77.019913, -77.019905, -76.938118, -76.93055, -76.622063, -76.612137, -76.612335] [38.892063, 38.903534, 38.918659, 38.92363, 39.286255, 39.286587, 39.290443]\n",
            "<matplotlib.collections.PathCollection object at 0x7efc6f709160>\n"
          ],
          "name": "stdout"
        },
        {
          "output_type": "display_data",
          "data": {
            "image/png": "[encoded data removed]",
            "text/plain": [
              "<Figure size 432x288 with 1 Axes>"
            ]
          },
          "metadata": {
            "tags": [],
            "needs_background": "light"
          }
        }
      ]
    },
    {
      "cell_type": "code",
      "metadata": {
        "id": "lBXzgc5kKCK_",
        "colab_type": "code",
        "outputId": "a28b9d6a-02df-49a9-f441-a8a09fba31a3",
        "colab": {
          "base_uri": "https://localhost:8080/",
          "height": 435
        }
      },
      "source": [
        "import urllib.parse\n",
        "import requests\n",
        "import json\n",
        "import matplotlib.pyplot as pp\n",
        "\n",
        "list1=[]\n",
        "list2=[]\n",
        "main_api = \"https://www.mapquestapi.com/directions/v2/route?\"\n",
        "orig = \"Washington\"\n",
        "dest = \"Baltimaore\"\n",
        "key =\"Ef2N5p2EvKuUQnCOaAhSXgsATW7Z1ro3\"\n",
        "url = main_api + urllib.parse.urlencode({\"key\": key, \"from\":orig, \"to\":dest})\n",
        "print(url)\n",
        "json_data = requests.get(url).json()\n",
        "\n",
        "for i in range(7):\n",
        " print((json_data[\"route\"][\"legs\"][0][\"maneuvers\"][i][\"narrative\"]) +\"  \"+ str(json_data[\"route\"][\"legs\"][0][\"maneuvers\"][i][\"distance\"]))\n",
        "  \n",
        "print(list1,list2)  \n"
      ],
      "execution_count": 0,
      "outputs": [
        {
          "output_type": "stream",
          "text": [
            "https://www.mapquestapi.com/directions/v2/route?key=Ef2N5p2EvKuUQnCOaAhSXgsATW7Z1ro3&from=Washington&to=Baltimaore\n",
            "Start out going north on 6th St/US-50 E/US-1 N toward Pennsylvania Ave/US-1 Alt N.  0.792\n",
            "Turn right onto New York Ave/US-50 E. Continue to follow US-50 E (Crossing into Maryland).  4.662\n",
            "Take the Balt-Wash Parkway exit on the left toward Baltimore.  0.545\n",
            "Merge onto MD-295 N.  31.29\n",
            "Turn right onto W Pratt St.  0.533\n",
            "Turn left onto S Calvert St/MD-2.  0.267\n",
            "Welcome to BALTIMORE, MD.  0\n",
            "[] []\n",
            "<matplotlib.collections.PathCollection object at 0x7fbee10fd4a8>\n"
          ],
          "name": "stdout"
        },
        {
          "output_type": "display_data",
          "data": {
            "image/png": "[encoded data removed]",
            "text/plain": [
              "<Figure size 432x288 with 1 Axes>"
            ]
          },
          "metadata": {
            "tags": [],
            "needs_background": "light"
          }
        }
      ]
    },
    {
      "cell_type": "code",
      "metadata": {
        "id": "XE6D0LUqkviq",
        "colab_type": "code",
        "outputId": "77648dae-1b7d-4d86-e35d-8d2cba765b78",
        "colab": {
          "base_uri": "https://localhost:8080/",
          "height": 34
        }
      },
      "source": [
        "valu=\"chadru\"\n",
        "val1=10\n",
        "print(valu + \"(\" + str(\"{:.2f}\".format(val1*1.61) +  \" km\"  \")\"))"
      ],
      "execution_count": 0,
      "outputs": [
        {
          "output_type": "stream",
          "text": [
            "chadru(16.10 km)\n"
          ],
          "name": "stdout"
        }
      ]
    },
    {
      "cell_type": "code",
      "metadata": {
        "id": "NVBdhq2IAP-D",
        "colab_type": "code",
        "colab": {}
      },
      "source": [
        "fin=open(\"file1.txt\")\n",
        "fin2=open(\"file2.txt\",mode=\"w\")\n",
        "for line in fin:\n",
        "  if line.startswith(\"aa\"):\n",
        "   fin2.write(line)\n",
        "fin.close()\n",
        "fin2.close()"
      ],
      "execution_count": 0,
      "outputs": []
    }
  ]
}